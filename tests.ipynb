{
 "metadata": {
  "language_info": {
   "codemirror_mode": {
    "name": "ipython",
    "version": 3
   },
   "file_extension": ".py",
   "mimetype": "text/x-python",
   "name": "python",
   "nbconvert_exporter": "python",
   "pygments_lexer": "ipython3",
   "version": "3.8.8"
  },
  "orig_nbformat": 2,
  "kernelspec": {
   "name": "python388jvsc74a57bd08a21e3e158ae495060db0abbd721da4b31a8b4be02be77d59c79f9f9386e1d4e",
   "display_name": "Python 3.8.8 64-bit ('ib': conda)"
  },
  "metadata": {
   "interpreter": {
    "hash": "8a21e3e158ae495060db0abbd721da4b31a8b4be02be77d59c79f9f9386e1d4e"
   }
  }
 },
 "nbformat": 4,
 "nbformat_minor": 2,
 "cells": [
  {
   "cell_type": "code",
   "execution_count": 65,
   "metadata": {},
   "outputs": [],
   "source": [
    "import time\n",
    "import datetime\n",
    "from IPython.display import display, clear_output\n",
    "import connect as ibc\n",
    "import asyncio\n",
    "import pandas as pd\n",
    "from ib_insync import *\n",
    "\n",
    "import numpy as np\n",
    "util.startLoop()  # uncomment this line when in a notebook"
   ]
  },
  {
   "cell_type": "code",
   "execution_count": 153,
   "metadata": {},
   "outputs": [
    {
     "output_type": "execute_result",
     "data": {
      "text/plain": [
       "<IB connected to 127.0.0.1:7497 clientId=1>"
      ]
     },
     "metadata": {},
     "execution_count": 153
    }
   ],
   "source": [
    "ib = IB()\n",
    "ib.connect('127.0.0.1', 7497, clientId=1)"
   ]
  },
  {
   "cell_type": "code",
   "execution_count": 171,
   "metadata": {},
   "outputs": [],
   "source": [
    "ib.disconnect()"
   ]
  },
  {
   "cell_type": "code",
   "execution_count": 162,
   "metadata": {},
   "outputs": [],
   "source": [
    "start = ''\n",
    "end = datetime.datetime.now()\n",
    "ticks = ib.reqHistoricalTicks(Forex('EURUSD'), start, end, 1000, 'BID_ASK', useRth=False)"
   ]
  },
  {
   "cell_type": "code",
   "execution_count": 163,
   "metadata": {},
   "outputs": [],
   "source": [
    "df = []"
   ]
  },
  {
   "cell_type": "code",
   "execution_count": 164,
   "metadata": {},
   "outputs": [],
   "source": [
    "for tick in ticks:\n",
    "    df.append([tick.time, tick.sizeBid, tick.priceBid, tick.priceAsk, tick.sizeAsk])"
   ]
  },
  {
   "cell_type": "code",
   "execution_count": 165,
   "metadata": {},
   "outputs": [],
   "source": [
    "df = pd.DataFrame(df)\n",
    "df.columns = ['time', 'bidSize', 'bid', 'ask', 'askSize']"
   ]
  },
  {
   "cell_type": "code",
   "execution_count": 167,
   "metadata": {},
   "outputs": [
    {
     "output_type": "execute_result",
     "data": {
      "text/plain": [
       "<AxesSubplot:>"
      ]
     },
     "metadata": {},
     "execution_count": 167
    },
    {
     "output_type": "display_data",
     "data": {
      "text/plain": "<Figure size 1440x720 with 1 Axes>",
      "image/svg+xml": "<?xml version=\"1.0\" encoding=\"utf-8\" standalone=\"no\"?>\r\n<!DOCTYPE svg PUBLIC \"-//W3C//DTD SVG 1.1//EN\"\r\n  \"http://www.w3.org/Graphics/SVG/1.1/DTD/svg11.dtd\">\r\n<!-- Created with matplotlib (https://matplotlib.org/) -->\r\n<svg height=\"574.678125pt\" version=\"1.1\" viewBox=\"0 0 1178.753125 574.678125\" width=\"1178.753125pt\" xmlns=\"http://www.w3.org/2000/svg\" xmlns:xlink=\"http://www.w3.org/1999/xlink\">\r\n <metadata>\r\n  <rdf:RDF xmlns:cc=\"http://creativecommons.org/ns#\" xmlns:dc=\"http://purl.org/dc/elements/1.1/\" xmlns:rdf=\"http://www.w3.org/1999/02/22-rdf-syntax-ns#\">\r\n   <cc:Work>\r\n    <dc:type rdf:resource=\"http://purl.org/dc/dcmitype/StillImage\"/>\r\n    <dc:date>2021-04-28T19:37:21.083188</dc:date>\r\n    <dc:format>image/svg+xml</dc:format>\r\n    <dc:creator>\r\n     <cc:Agent>\r\n      <dc:title>Matplotlib v3.3.4, https://matplotlib.org/</dc:title>\r\n     </cc:Agent>\r\n    </dc:creator>\r\n   </cc:Work>\r\n  </rdf:RDF>\r\n </metadata>\r\n <defs>\r\n  <style type=\"text/css\">*{stroke-linecap:butt;stroke-linejoin:round;}</style>\r\n </defs>\r\n <g id=\"figure_1\">\r\n  <g id=\"patch_1\">\r\n   <path d=\"M 0 574.678125 \r\nL 1178.753125 574.678125 \r\nL 1178.753125 0 \r\nL 0 0 \r\nz\r\n\" style=\"fill:none;\"/>\r\n  </g>\r\n  <g id=\"axes_1\">\r\n   <g id=\"patch_2\">\r\n    <path d=\"M 55.553125 550.8 \r\nL 1171.553125 550.8 \r\nL 1171.553125 7.2 \r\nL 55.553125 7.2 \r\nz\r\n\" style=\"fill:#ffffff;\"/>\r\n   </g>\r\n   <g id=\"matplotlib.axis_1\">\r\n    <g id=\"xtick_1\">\r\n     <g id=\"line2d_1\">\r\n      <defs>\r\n       <path d=\"M 0 0 \r\nL 0 3.5 \r\n\" id=\"me3bd1e08c3\" style=\"stroke:#000000;stroke-width:0.8;\"/>\r\n      </defs>\r\n      <g>\r\n       <use style=\"stroke:#000000;stroke-width:0.8;\" x=\"106.280398\" xlink:href=\"#me3bd1e08c3\" y=\"550.8\"/>\r\n      </g>\r\n     </g>\r\n     <g id=\"text_1\">\r\n      <!-- 0 -->\r\n      <g transform=\"translate(103.099148 565.398438)scale(0.1 -0.1)\">\r\n       <defs>\r\n        <path d=\"M 31.78125 66.40625 \r\nQ 24.171875 66.40625 20.328125 58.90625 \r\nQ 16.5 51.421875 16.5 36.375 \r\nQ 16.5 21.390625 20.328125 13.890625 \r\nQ 24.171875 6.390625 31.78125 6.390625 \r\nQ 39.453125 6.390625 43.28125 13.890625 \r\nQ 47.125 21.390625 47.125 36.375 \r\nQ 47.125 51.421875 43.28125 58.90625 \r\nQ 39.453125 66.40625 31.78125 66.40625 \r\nz\r\nM 31.78125 74.21875 \r\nQ 44.046875 74.21875 50.515625 64.515625 \r\nQ 56.984375 54.828125 56.984375 36.375 \r\nQ 56.984375 17.96875 50.515625 8.265625 \r\nQ 44.046875 -1.421875 31.78125 -1.421875 \r\nQ 19.53125 -1.421875 13.0625 8.265625 \r\nQ 6.59375 17.96875 6.59375 36.375 \r\nQ 6.59375 54.828125 13.0625 64.515625 \r\nQ 19.53125 74.21875 31.78125 74.21875 \r\nz\r\n\" id=\"DejaVuSans-48\"/>\r\n       </defs>\r\n       <use xlink:href=\"#DejaVuSans-48\"/>\r\n      </g>\r\n     </g>\r\n    </g>\r\n    <g id=\"xtick_2\">\r\n     <g id=\"line2d_2\">\r\n      <g>\r\n       <use style=\"stroke:#000000;stroke-width:0.8;\" x=\"306.981774\" xlink:href=\"#me3bd1e08c3\" y=\"550.8\"/>\r\n      </g>\r\n     </g>\r\n     <g id=\"text_2\">\r\n      <!-- 200 -->\r\n      <g transform=\"translate(297.438024 565.398438)scale(0.1 -0.1)\">\r\n       <defs>\r\n        <path d=\"M 19.1875 8.296875 \r\nL 53.609375 8.296875 \r\nL 53.609375 0 \r\nL 7.328125 0 \r\nL 7.328125 8.296875 \r\nQ 12.9375 14.109375 22.625 23.890625 \r\nQ 32.328125 33.6875 34.8125 36.53125 \r\nQ 39.546875 41.84375 41.421875 45.53125 \r\nQ 43.3125 49.21875 43.3125 52.78125 \r\nQ 43.3125 58.59375 39.234375 62.25 \r\nQ 35.15625 65.921875 28.609375 65.921875 \r\nQ 23.96875 65.921875 18.8125 64.3125 \r\nQ 13.671875 62.703125 7.8125 59.421875 \r\nL 7.8125 69.390625 \r\nQ 13.765625 71.78125 18.9375 73 \r\nQ 24.125 74.21875 28.421875 74.21875 \r\nQ 39.75 74.21875 46.484375 68.546875 \r\nQ 53.21875 62.890625 53.21875 53.421875 \r\nQ 53.21875 48.921875 51.53125 44.890625 \r\nQ 49.859375 40.875 45.40625 35.40625 \r\nQ 44.1875 33.984375 37.640625 27.21875 \r\nQ 31.109375 20.453125 19.1875 8.296875 \r\nz\r\n\" id=\"DejaVuSans-50\"/>\r\n       </defs>\r\n       <use xlink:href=\"#DejaVuSans-50\"/>\r\n       <use x=\"63.623047\" xlink:href=\"#DejaVuSans-48\"/>\r\n       <use x=\"127.246094\" xlink:href=\"#DejaVuSans-48\"/>\r\n      </g>\r\n     </g>\r\n    </g>\r\n    <g id=\"xtick_3\">\r\n     <g id=\"line2d_3\">\r\n      <g>\r\n       <use style=\"stroke:#000000;stroke-width:0.8;\" x=\"507.683149\" xlink:href=\"#me3bd1e08c3\" y=\"550.8\"/>\r\n      </g>\r\n     </g>\r\n     <g id=\"text_3\">\r\n      <!-- 400 -->\r\n      <g transform=\"translate(498.139399 565.398438)scale(0.1 -0.1)\">\r\n       <defs>\r\n        <path d=\"M 37.796875 64.3125 \r\nL 12.890625 25.390625 \r\nL 37.796875 25.390625 \r\nz\r\nM 35.203125 72.90625 \r\nL 47.609375 72.90625 \r\nL 47.609375 25.390625 \r\nL 58.015625 25.390625 \r\nL 58.015625 17.1875 \r\nL 47.609375 17.1875 \r\nL 47.609375 0 \r\nL 37.796875 0 \r\nL 37.796875 17.1875 \r\nL 4.890625 17.1875 \r\nL 4.890625 26.703125 \r\nz\r\n\" id=\"DejaVuSans-52\"/>\r\n       </defs>\r\n       <use xlink:href=\"#DejaVuSans-52\"/>\r\n       <use x=\"63.623047\" xlink:href=\"#DejaVuSans-48\"/>\r\n       <use x=\"127.246094\" xlink:href=\"#DejaVuSans-48\"/>\r\n      </g>\r\n     </g>\r\n    </g>\r\n    <g id=\"xtick_4\">\r\n     <g id=\"line2d_4\">\r\n      <g>\r\n       <use style=\"stroke:#000000;stroke-width:0.8;\" x=\"708.384525\" xlink:href=\"#me3bd1e08c3\" y=\"550.8\"/>\r\n      </g>\r\n     </g>\r\n     <g id=\"text_4\">\r\n      <!-- 600 -->\r\n      <g transform=\"translate(698.840775 565.398438)scale(0.1 -0.1)\">\r\n       <defs>\r\n        <path d=\"M 33.015625 40.375 \r\nQ 26.375 40.375 22.484375 35.828125 \r\nQ 18.609375 31.296875 18.609375 23.390625 \r\nQ 18.609375 15.53125 22.484375 10.953125 \r\nQ 26.375 6.390625 33.015625 6.390625 \r\nQ 39.65625 6.390625 43.53125 10.953125 \r\nQ 47.40625 15.53125 47.40625 23.390625 \r\nQ 47.40625 31.296875 43.53125 35.828125 \r\nQ 39.65625 40.375 33.015625 40.375 \r\nz\r\nM 52.59375 71.296875 \r\nL 52.59375 62.3125 \r\nQ 48.875 64.0625 45.09375 64.984375 \r\nQ 41.3125 65.921875 37.59375 65.921875 \r\nQ 27.828125 65.921875 22.671875 59.328125 \r\nQ 17.53125 52.734375 16.796875 39.40625 \r\nQ 19.671875 43.65625 24.015625 45.921875 \r\nQ 28.375 48.1875 33.59375 48.1875 \r\nQ 44.578125 48.1875 50.953125 41.515625 \r\nQ 57.328125 34.859375 57.328125 23.390625 \r\nQ 57.328125 12.15625 50.6875 5.359375 \r\nQ 44.046875 -1.421875 33.015625 -1.421875 \r\nQ 20.359375 -1.421875 13.671875 8.265625 \r\nQ 6.984375 17.96875 6.984375 36.375 \r\nQ 6.984375 53.65625 15.1875 63.9375 \r\nQ 23.390625 74.21875 37.203125 74.21875 \r\nQ 40.921875 74.21875 44.703125 73.484375 \r\nQ 48.484375 72.75 52.59375 71.296875 \r\nz\r\n\" id=\"DejaVuSans-54\"/>\r\n       </defs>\r\n       <use xlink:href=\"#DejaVuSans-54\"/>\r\n       <use x=\"63.623047\" xlink:href=\"#DejaVuSans-48\"/>\r\n       <use x=\"127.246094\" xlink:href=\"#DejaVuSans-48\"/>\r\n      </g>\r\n     </g>\r\n    </g>\r\n    <g id=\"xtick_5\">\r\n     <g id=\"line2d_5\">\r\n      <g>\r\n       <use style=\"stroke:#000000;stroke-width:0.8;\" x=\"909.085901\" xlink:href=\"#me3bd1e08c3\" y=\"550.8\"/>\r\n      </g>\r\n     </g>\r\n     <g id=\"text_5\">\r\n      <!-- 800 -->\r\n      <g transform=\"translate(899.542151 565.398438)scale(0.1 -0.1)\">\r\n       <defs>\r\n        <path d=\"M 31.78125 34.625 \r\nQ 24.75 34.625 20.71875 30.859375 \r\nQ 16.703125 27.09375 16.703125 20.515625 \r\nQ 16.703125 13.921875 20.71875 10.15625 \r\nQ 24.75 6.390625 31.78125 6.390625 \r\nQ 38.8125 6.390625 42.859375 10.171875 \r\nQ 46.921875 13.96875 46.921875 20.515625 \r\nQ 46.921875 27.09375 42.890625 30.859375 \r\nQ 38.875 34.625 31.78125 34.625 \r\nz\r\nM 21.921875 38.8125 \r\nQ 15.578125 40.375 12.03125 44.71875 \r\nQ 8.5 49.078125 8.5 55.328125 \r\nQ 8.5 64.0625 14.71875 69.140625 \r\nQ 20.953125 74.21875 31.78125 74.21875 \r\nQ 42.671875 74.21875 48.875 69.140625 \r\nQ 55.078125 64.0625 55.078125 55.328125 \r\nQ 55.078125 49.078125 51.53125 44.71875 \r\nQ 48 40.375 41.703125 38.8125 \r\nQ 48.828125 37.15625 52.796875 32.3125 \r\nQ 56.78125 27.484375 56.78125 20.515625 \r\nQ 56.78125 9.90625 50.3125 4.234375 \r\nQ 43.84375 -1.421875 31.78125 -1.421875 \r\nQ 19.734375 -1.421875 13.25 4.234375 \r\nQ 6.78125 9.90625 6.78125 20.515625 \r\nQ 6.78125 27.484375 10.78125 32.3125 \r\nQ 14.796875 37.15625 21.921875 38.8125 \r\nz\r\nM 18.3125 54.390625 \r\nQ 18.3125 48.734375 21.84375 45.5625 \r\nQ 25.390625 42.390625 31.78125 42.390625 \r\nQ 38.140625 42.390625 41.71875 45.5625 \r\nQ 45.3125 48.734375 45.3125 54.390625 \r\nQ 45.3125 60.0625 41.71875 63.234375 \r\nQ 38.140625 66.40625 31.78125 66.40625 \r\nQ 25.390625 66.40625 21.84375 63.234375 \r\nQ 18.3125 60.0625 18.3125 54.390625 \r\nz\r\n\" id=\"DejaVuSans-56\"/>\r\n       </defs>\r\n       <use xlink:href=\"#DejaVuSans-56\"/>\r\n       <use x=\"63.623047\" xlink:href=\"#DejaVuSans-48\"/>\r\n       <use x=\"127.246094\" xlink:href=\"#DejaVuSans-48\"/>\r\n      </g>\r\n     </g>\r\n    </g>\r\n    <g id=\"xtick_6\">\r\n     <g id=\"line2d_6\">\r\n      <g>\r\n       <use style=\"stroke:#000000;stroke-width:0.8;\" x=\"1109.787277\" xlink:href=\"#me3bd1e08c3\" y=\"550.8\"/>\r\n      </g>\r\n     </g>\r\n     <g id=\"text_6\">\r\n      <!-- 1000 -->\r\n      <g transform=\"translate(1097.062277 565.398438)scale(0.1 -0.1)\">\r\n       <defs>\r\n        <path d=\"M 12.40625 8.296875 \r\nL 28.515625 8.296875 \r\nL 28.515625 63.921875 \r\nL 10.984375 60.40625 \r\nL 10.984375 69.390625 \r\nL 28.421875 72.90625 \r\nL 38.28125 72.90625 \r\nL 38.28125 8.296875 \r\nL 54.390625 8.296875 \r\nL 54.390625 0 \r\nL 12.40625 0 \r\nz\r\n\" id=\"DejaVuSans-49\"/>\r\n       </defs>\r\n       <use xlink:href=\"#DejaVuSans-49\"/>\r\n       <use x=\"63.623047\" xlink:href=\"#DejaVuSans-48\"/>\r\n       <use x=\"127.246094\" xlink:href=\"#DejaVuSans-48\"/>\r\n       <use x=\"190.869141\" xlink:href=\"#DejaVuSans-48\"/>\r\n      </g>\r\n     </g>\r\n    </g>\r\n   </g>\r\n   <g id=\"matplotlib.axis_2\">\r\n    <g id=\"ytick_1\">\r\n     <g id=\"line2d_7\">\r\n      <defs>\r\n       <path d=\"M 0 0 \r\nL -3.5 0 \r\n\" id=\"m953468eb0a\" style=\"stroke:#000000;stroke-width:0.8;\"/>\r\n      </defs>\r\n      <g>\r\n       <use style=\"stroke:#000000;stroke-width:0.8;\" x=\"55.553125\" xlink:href=\"#m953468eb0a\" y=\"526.090909\"/>\r\n      </g>\r\n     </g>\r\n     <g id=\"text_7\">\r\n      <!-- 1.20795 -->\r\n      <g transform=\"translate(7.2 529.890128)scale(0.1 -0.1)\">\r\n       <defs>\r\n        <path d=\"M 10.6875 12.40625 \r\nL 21 12.40625 \r\nL 21 0 \r\nL 10.6875 0 \r\nz\r\n\" id=\"DejaVuSans-46\"/>\r\n        <path d=\"M 8.203125 72.90625 \r\nL 55.078125 72.90625 \r\nL 55.078125 68.703125 \r\nL 28.609375 0 \r\nL 18.3125 0 \r\nL 43.21875 64.59375 \r\nL 8.203125 64.59375 \r\nz\r\n\" id=\"DejaVuSans-55\"/>\r\n        <path d=\"M 10.984375 1.515625 \r\nL 10.984375 10.5 \r\nQ 14.703125 8.734375 18.5 7.8125 \r\nQ 22.3125 6.890625 25.984375 6.890625 \r\nQ 35.75 6.890625 40.890625 13.453125 \r\nQ 46.046875 20.015625 46.78125 33.40625 \r\nQ 43.953125 29.203125 39.59375 26.953125 \r\nQ 35.25 24.703125 29.984375 24.703125 \r\nQ 19.046875 24.703125 12.671875 31.3125 \r\nQ 6.296875 37.9375 6.296875 49.421875 \r\nQ 6.296875 60.640625 12.9375 67.421875 \r\nQ 19.578125 74.21875 30.609375 74.21875 \r\nQ 43.265625 74.21875 49.921875 64.515625 \r\nQ 56.59375 54.828125 56.59375 36.375 \r\nQ 56.59375 19.140625 48.40625 8.859375 \r\nQ 40.234375 -1.421875 26.421875 -1.421875 \r\nQ 22.703125 -1.421875 18.890625 -0.6875 \r\nQ 15.09375 0.046875 10.984375 1.515625 \r\nz\r\nM 30.609375 32.421875 \r\nQ 37.25 32.421875 41.125 36.953125 \r\nQ 45.015625 41.5 45.015625 49.421875 \r\nQ 45.015625 57.28125 41.125 61.84375 \r\nQ 37.25 66.40625 30.609375 66.40625 \r\nQ 23.96875 66.40625 20.09375 61.84375 \r\nQ 16.21875 57.28125 16.21875 49.421875 \r\nQ 16.21875 41.5 20.09375 36.953125 \r\nQ 23.96875 32.421875 30.609375 32.421875 \r\nz\r\n\" id=\"DejaVuSans-57\"/>\r\n        <path d=\"M 10.796875 72.90625 \r\nL 49.515625 72.90625 \r\nL 49.515625 64.59375 \r\nL 19.828125 64.59375 \r\nL 19.828125 46.734375 \r\nQ 21.96875 47.46875 24.109375 47.828125 \r\nQ 26.265625 48.1875 28.421875 48.1875 \r\nQ 40.625 48.1875 47.75 41.5 \r\nQ 54.890625 34.8125 54.890625 23.390625 \r\nQ 54.890625 11.625 47.5625 5.09375 \r\nQ 40.234375 -1.421875 26.90625 -1.421875 \r\nQ 22.3125 -1.421875 17.546875 -0.640625 \r\nQ 12.796875 0.140625 7.71875 1.703125 \r\nL 7.71875 11.625 \r\nQ 12.109375 9.234375 16.796875 8.0625 \r\nQ 21.484375 6.890625 26.703125 6.890625 \r\nQ 35.15625 6.890625 40.078125 11.328125 \r\nQ 45.015625 15.765625 45.015625 23.390625 \r\nQ 45.015625 31 40.078125 35.4375 \r\nQ 35.15625 39.890625 26.703125 39.890625 \r\nQ 22.75 39.890625 18.8125 39.015625 \r\nQ 14.890625 38.140625 10.796875 36.28125 \r\nz\r\n\" id=\"DejaVuSans-53\"/>\r\n       </defs>\r\n       <use xlink:href=\"#DejaVuSans-49\"/>\r\n       <use x=\"63.623047\" xlink:href=\"#DejaVuSans-46\"/>\r\n       <use x=\"95.410156\" xlink:href=\"#DejaVuSans-50\"/>\r\n       <use x=\"159.033203\" xlink:href=\"#DejaVuSans-48\"/>\r\n       <use x=\"222.65625\" xlink:href=\"#DejaVuSans-55\"/>\r\n       <use x=\"286.279297\" xlink:href=\"#DejaVuSans-57\"/>\r\n       <use x=\"349.902344\" xlink:href=\"#DejaVuSans-53\"/>\r\n      </g>\r\n     </g>\r\n    </g>\r\n    <g id=\"ytick_2\">\r\n     <g id=\"line2d_8\">\r\n      <g>\r\n       <use style=\"stroke:#000000;stroke-width:0.8;\" x=\"55.553125\" xlink:href=\"#m953468eb0a\" y=\"427.254545\"/>\r\n      </g>\r\n     </g>\r\n     <g id=\"text_8\">\r\n      <!-- 1.20800 -->\r\n      <g transform=\"translate(7.2 431.053764)scale(0.1 -0.1)\">\r\n       <use xlink:href=\"#DejaVuSans-49\"/>\r\n       <use x=\"63.623047\" xlink:href=\"#DejaVuSans-46\"/>\r\n       <use x=\"95.410156\" xlink:href=\"#DejaVuSans-50\"/>\r\n       <use x=\"159.033203\" xlink:href=\"#DejaVuSans-48\"/>\r\n       <use x=\"222.65625\" xlink:href=\"#DejaVuSans-56\"/>\r\n       <use x=\"286.279297\" xlink:href=\"#DejaVuSans-48\"/>\r\n       <use x=\"349.902344\" xlink:href=\"#DejaVuSans-48\"/>\r\n      </g>\r\n     </g>\r\n    </g>\r\n    <g id=\"ytick_3\">\r\n     <g id=\"line2d_9\">\r\n      <g>\r\n       <use style=\"stroke:#000000;stroke-width:0.8;\" x=\"55.553125\" xlink:href=\"#m953468eb0a\" y=\"328.418182\"/>\r\n      </g>\r\n     </g>\r\n     <g id=\"text_9\">\r\n      <!-- 1.20805 -->\r\n      <g transform=\"translate(7.2 332.217401)scale(0.1 -0.1)\">\r\n       <use xlink:href=\"#DejaVuSans-49\"/>\r\n       <use x=\"63.623047\" xlink:href=\"#DejaVuSans-46\"/>\r\n       <use x=\"95.410156\" xlink:href=\"#DejaVuSans-50\"/>\r\n       <use x=\"159.033203\" xlink:href=\"#DejaVuSans-48\"/>\r\n       <use x=\"222.65625\" xlink:href=\"#DejaVuSans-56\"/>\r\n       <use x=\"286.279297\" xlink:href=\"#DejaVuSans-48\"/>\r\n       <use x=\"349.902344\" xlink:href=\"#DejaVuSans-53\"/>\r\n      </g>\r\n     </g>\r\n    </g>\r\n    <g id=\"ytick_4\">\r\n     <g id=\"line2d_10\">\r\n      <g>\r\n       <use style=\"stroke:#000000;stroke-width:0.8;\" x=\"55.553125\" xlink:href=\"#m953468eb0a\" y=\"229.581818\"/>\r\n      </g>\r\n     </g>\r\n     <g id=\"text_10\">\r\n      <!-- 1.20810 -->\r\n      <g transform=\"translate(7.2 233.381037)scale(0.1 -0.1)\">\r\n       <use xlink:href=\"#DejaVuSans-49\"/>\r\n       <use x=\"63.623047\" xlink:href=\"#DejaVuSans-46\"/>\r\n       <use x=\"95.410156\" xlink:href=\"#DejaVuSans-50\"/>\r\n       <use x=\"159.033203\" xlink:href=\"#DejaVuSans-48\"/>\r\n       <use x=\"222.65625\" xlink:href=\"#DejaVuSans-56\"/>\r\n       <use x=\"286.279297\" xlink:href=\"#DejaVuSans-49\"/>\r\n       <use x=\"349.902344\" xlink:href=\"#DejaVuSans-48\"/>\r\n      </g>\r\n     </g>\r\n    </g>\r\n    <g id=\"ytick_5\">\r\n     <g id=\"line2d_11\">\r\n      <g>\r\n       <use style=\"stroke:#000000;stroke-width:0.8;\" x=\"55.553125\" xlink:href=\"#m953468eb0a\" y=\"130.745455\"/>\r\n      </g>\r\n     </g>\r\n     <g id=\"text_11\">\r\n      <!-- 1.20815 -->\r\n      <g transform=\"translate(7.2 134.544673)scale(0.1 -0.1)\">\r\n       <use xlink:href=\"#DejaVuSans-49\"/>\r\n       <use x=\"63.623047\" xlink:href=\"#DejaVuSans-46\"/>\r\n       <use x=\"95.410156\" xlink:href=\"#DejaVuSans-50\"/>\r\n       <use x=\"159.033203\" xlink:href=\"#DejaVuSans-48\"/>\r\n       <use x=\"222.65625\" xlink:href=\"#DejaVuSans-56\"/>\r\n       <use x=\"286.279297\" xlink:href=\"#DejaVuSans-49\"/>\r\n       <use x=\"349.902344\" xlink:href=\"#DejaVuSans-53\"/>\r\n      </g>\r\n     </g>\r\n    </g>\r\n    <g id=\"ytick_6\">\r\n     <g id=\"line2d_12\">\r\n      <g>\r\n       <use style=\"stroke:#000000;stroke-width:0.8;\" x=\"55.553125\" xlink:href=\"#m953468eb0a\" y=\"31.909091\"/>\r\n      </g>\r\n     </g>\r\n     <g id=\"text_12\">\r\n      <!-- 1.20820 -->\r\n      <g transform=\"translate(7.2 35.70831)scale(0.1 -0.1)\">\r\n       <use xlink:href=\"#DejaVuSans-49\"/>\r\n       <use x=\"63.623047\" xlink:href=\"#DejaVuSans-46\"/>\r\n       <use x=\"95.410156\" xlink:href=\"#DejaVuSans-50\"/>\r\n       <use x=\"159.033203\" xlink:href=\"#DejaVuSans-48\"/>\r\n       <use x=\"222.65625\" xlink:href=\"#DejaVuSans-56\"/>\r\n       <use x=\"286.279297\" xlink:href=\"#DejaVuSans-50\"/>\r\n       <use x=\"349.902344\" xlink:href=\"#DejaVuSans-48\"/>\r\n      </g>\r\n     </g>\r\n    </g>\r\n   </g>\r\n   <g id=\"line2d_13\">\r\n    <path clip-path=\"url(#p4fa00cf4d8)\" d=\"M 106.280398 190.047273 \r\nL 154.448728 190.047273 \r\nL 155.452235 209.814545 \r\nL 157.459249 209.814545 \r\nL 158.462755 229.581818 \r\nL 174.518865 229.581818 \r\nL 175.522372 269.116364 \r\nL 195.59251 269.116364 \r\nL 196.596017 288.883636 \r\nL 204.624072 288.883636 \r\nL 205.627579 269.116364 \r\nL 212.652127 269.116364 \r\nL 213.655634 288.883636 \r\nL 231.718758 288.883636 \r\nL 232.722264 269.116364 \r\nL 275.87306 269.116364 \r\nL 276.876567 229.581818 \r\nL 282.897608 229.581818 \r\nL 283.901115 209.814545 \r\nL 300.960732 209.814545 \r\nL 301.964239 190.047273 \r\nL 307.98528 190.047273 \r\nL 308.988787 170.28 \r\nL 311.999308 170.28 \r\nL 313.002815 190.047273 \r\nL 314.006322 150.512727 \r\nL 319.023856 150.512727 \r\nL 320.027363 170.28 \r\nL 321.03087 150.512727 \r\nL 329.058925 150.512727 \r\nL 330.062432 130.745455 \r\nL 332.069445 130.745455 \r\nL 333.072952 150.512727 \r\nL 334.076459 110.978182 \r\nL 335.079966 150.512727 \r\nL 336.083473 110.978182 \r\nL 339.093994 110.978182 \r\nL 340.097501 91.210909 \r\nL 350.132569 91.210909 \r\nL 351.136076 110.978182 \r\nL 366.188679 110.978182 \r\nL 367.192186 91.210909 \r\nL 368.195693 110.978182 \r\nL 369.1992 110.978182 \r\nL 370.202707 91.210909 \r\nL 371.206214 91.210909 \r\nL 372.209721 110.978182 \r\nL 373.213228 91.210909 \r\nL 385.25531 91.210909 \r\nL 386.258817 130.745455 \r\nL 395.290379 130.745455 \r\nL 396.293886 150.512727 \r\nL 398.300899 150.512727 \r\nL 399.304406 170.28 \r\nL 401.31142 170.28 \r\nL 402.314927 190.047273 \r\nL 403.318434 190.047273 \r\nL 404.321941 170.28 \r\nL 405.325448 170.28 \r\nL 406.328955 190.047273 \r\nL 407.332461 190.047273 \r\nL 408.335968 170.28 \r\nL 409.339475 190.047273 \r\nL 411.346489 190.047273 \r\nL 412.349996 170.28 \r\nL 420.378051 170.28 \r\nL 421.381558 130.745455 \r\nL 422.385065 130.745455 \r\nL 423.388571 150.512727 \r\nL 426.399092 150.512727 \r\nL 427.402599 170.28 \r\nL 435.430654 170.28 \r\nL 436.434161 130.745455 \r\nL 443.458709 130.745455 \r\nL 444.462216 150.512727 \r\nL 462.52534 150.512727 \r\nL 463.528847 170.28 \r\nL 470.553395 170.28 \r\nL 471.556902 150.512727 \r\nL 472.560409 150.512727 \r\nL 473.563915 130.745455 \r\nL 475.570929 130.745455 \r\nL 476.574436 150.512727 \r\nL 479.584957 150.512727 \r\nL 480.588464 130.745455 \r\nL 487.613012 130.745455 \r\nL 488.616519 110.978182 \r\nL 489.620025 110.978182 \r\nL 490.623532 91.210909 \r\nL 493.634053 91.210909 \r\nL 494.63756 110.978182 \r\nL 500.658601 110.978182 \r\nL 501.662108 91.210909 \r\nL 546.819918 91.210909 \r\nL 547.823424 110.978182 \r\nL 551.837452 110.978182 \r\nL 552.840959 91.210909 \r\nL 577.928631 91.210909 \r\nL 578.932138 110.978182 \r\nL 581.942658 110.978182 \r\nL 582.946165 130.745455 \r\nL 589.970713 130.745455 \r\nL 590.97422 150.512727 \r\nL 594.988248 150.512727 \r\nL 595.991755 170.28 \r\nL 601.009289 170.28 \r\nL 602.012796 150.512727 \r\nL 607.03033 150.512727 \r\nL 608.033837 170.28 \r\nL 609.037344 150.512727 \r\nL 610.040851 150.512727 \r\nL 611.044358 170.28 \r\nL 614.054878 170.28 \r\nL 615.058385 150.512727 \r\nL 616.061892 170.28 \r\nL 618.068906 170.28 \r\nL 619.072413 190.047273 \r\nL 623.08644 190.047273 \r\nL 624.089947 209.814545 \r\nL 625.093454 190.047273 \r\nL 644.160085 190.047273 \r\nL 645.163592 170.28 \r\nL 647.170605 170.28 \r\nL 648.174112 190.047273 \r\nL 650.181126 150.512727 \r\nL 652.18814 150.512727 \r\nL 653.191647 170.28 \r\nL 659.212688 170.28 \r\nL 660.216195 150.512727 \r\nL 662.223209 150.512727 \r\nL 663.226716 170.28 \r\nL 673.261784 170.28 \r\nL 674.265291 150.512727 \r\nL 676.272305 150.512727 \r\nL 677.275812 170.28 \r\nL 705.374004 170.28 \r\nL 706.377511 190.047273 \r\nL 712.398553 190.047273 \r\nL 713.402059 209.814545 \r\nL 724.440635 209.814545 \r\nL 725.444142 269.116364 \r\nL 729.45817 269.116364 \r\nL 730.461676 229.581818 \r\nL 732.46869 229.581818 \r\nL 733.472197 269.116364 \r\nL 770.601952 269.116364 \r\nL 771.605458 288.883636 \r\nL 776.622993 288.883636 \r\nL 777.6265 269.116364 \r\nL 787.661568 269.116364 \r\nL 788.665075 288.883636 \r\nL 827.801844 288.883636 \r\nL 828.805351 269.116364 \r\nL 830.812364 269.116364 \r\nL 831.815871 288.883636 \r\nL 848.875488 288.883636 \r\nL 849.878995 308.650909 \r\nL 856.903543 308.650909 \r\nL 857.90705 328.418182 \r\nL 860.917571 328.418182 \r\nL 861.921078 348.185455 \r\nL 862.924584 328.418182 \r\nL 864.931598 328.418182 \r\nL 865.935105 348.185455 \r\nL 867.942119 348.185455 \r\nL 868.945626 367.952727 \r\nL 888.012256 367.952727 \r\nL 889.015763 348.185455 \r\nL 890.01927 348.185455 \r\nL 891.022777 367.952727 \r\nL 892.026284 348.185455 \r\nL 893.029791 387.72 \r\nL 894.033298 367.952727 \r\nL 896.040311 367.952727 \r\nL 897.043818 348.185455 \r\nL 898.047325 367.952727 \r\nL 899.050832 367.952727 \r\nL 900.054339 387.72 \r\nL 920.124476 387.72 \r\nL 921.127983 407.487273 \r\nL 922.13149 387.72 \r\nL 923.134997 407.487273 \r\nL 930.159545 407.487273 \r\nL 931.163052 447.021818 \r\nL 943.205135 447.021818 \r\nL 944.208642 466.789091 \r\nL 948.222669 466.789091 \r\nL 949.226176 447.021818 \r\nL 1004.419054 447.021818 \r\nL 1005.422561 466.789091 \r\nL 1025.492699 466.789091 \r\nL 1026.496206 447.021818 \r\nL 1028.503219 447.021818 \r\nL 1029.506726 466.789091 \r\nL 1060.61544 466.789091 \r\nL 1061.618946 486.556364 \r\nL 1076.67155 486.556364 \r\nL 1077.675056 506.323636 \r\nL 1080.685577 506.323636 \r\nL 1081.689084 526.090909 \r\nL 1114.804811 526.090909 \r\nL 1115.808318 506.323636 \r\nL 1120.825852 506.323636 \r\nL 1120.825852 506.323636 \r\n\" style=\"fill:none;stroke:#1f77b4;stroke-linecap:square;stroke-width:1.5;\"/>\r\n   </g>\r\n   <g id=\"line2d_14\">\r\n    <path clip-path=\"url(#p4fa00cf4d8)\" d=\"M 106.280398 150.512727 \r\nL 111.297932 150.512727 \r\nL 112.301439 170.28 \r\nL 113.304946 150.512727 \r\nL 114.308453 150.512727 \r\nL 115.31196 170.28 \r\nL 118.32248 170.28 \r\nL 119.325987 150.512727 \r\nL 123.340015 150.512727 \r\nL 124.343522 170.28 \r\nL 126.350535 170.28 \r\nL 127.354042 150.512727 \r\nL 131.36807 150.512727 \r\nL 132.371577 170.28 \r\nL 134.37859 170.28 \r\nL 135.382097 150.512727 \r\nL 137.389111 150.512727 \r\nL 138.392618 170.28 \r\nL 154.448728 170.28 \r\nL 155.452235 190.047273 \r\nL 157.459249 190.047273 \r\nL 158.462755 209.814545 \r\nL 166.49081 209.814545 \r\nL 167.494317 190.047273 \r\nL 174.518865 190.047273 \r\nL 175.522372 229.581818 \r\nL 184.553934 229.581818 \r\nL 185.557441 249.349091 \r\nL 242.757333 249.349091 \r\nL 243.76084 229.581818 \r\nL 260.820457 229.581818 \r\nL 261.823964 249.349091 \r\nL 270.855526 249.349091 \r\nL 271.859033 229.581818 \r\nL 275.87306 229.581818 \r\nL 276.876567 209.814545 \r\nL 282.897608 209.814545 \r\nL 283.901115 190.047273 \r\nL 300.960732 190.047273 \r\nL 301.964239 170.28 \r\nL 307.98528 170.28 \r\nL 308.988787 130.745455 \r\nL 311.999308 130.745455 \r\nL 313.002815 170.28 \r\nL 314.006322 130.745455 \r\nL 329.058925 130.745455 \r\nL 330.062432 110.978182 \r\nL 332.069445 110.978182 \r\nL 333.072952 130.745455 \r\nL 334.076459 71.443636 \r\nL 335.079966 130.745455 \r\nL 336.083473 71.443636 \r\nL 385.25531 71.443636 \r\nL 386.258817 110.978182 \r\nL 395.290379 110.978182 \r\nL 396.293886 130.745455 \r\nL 398.300899 130.745455 \r\nL 399.304406 150.512727 \r\nL 404.321941 150.512727 \r\nL 405.325448 130.745455 \r\nL 406.328955 170.28 \r\nL 407.332461 150.512727 \r\nL 410.342982 150.512727 \r\nL 411.346489 130.745455 \r\nL 420.378051 130.745455 \r\nL 421.381558 110.978182 \r\nL 422.385065 110.978182 \r\nL 423.388571 130.745455 \r\nL 435.430654 130.745455 \r\nL 436.434161 110.978182 \r\nL 443.458709 110.978182 \r\nL 444.462216 130.745455 \r\nL 463.528847 130.745455 \r\nL 464.532353 150.512727 \r\nL 465.53586 130.745455 \r\nL 472.560409 130.745455 \r\nL 473.563915 110.978182 \r\nL 487.613012 110.978182 \r\nL 488.616519 71.443636 \r\nL 518.721725 71.443636 \r\nL 519.725232 51.676364 \r\nL 541.802383 51.676364 \r\nL 542.80589 71.443636 \r\nL 556.854986 71.443636 \r\nL 557.858493 51.676364 \r\nL 558.862 71.443636 \r\nL 581.942658 71.443636 \r\nL 582.946165 110.978182 \r\nL 585.956686 110.978182 \r\nL 586.960193 31.909091 \r\nL 589.970713 31.909091 \r\nL 590.97422 130.745455 \r\nL 594.988248 130.745455 \r\nL 595.991755 150.512727 \r\nL 601.009289 150.512727 \r\nL 602.012796 130.745455 \r\nL 607.03033 130.745455 \r\nL 608.033837 150.512727 \r\nL 609.037344 130.745455 \r\nL 610.040851 130.745455 \r\nL 611.044358 150.512727 \r\nL 614.054878 150.512727 \r\nL 615.058385 130.745455 \r\nL 616.061892 150.512727 \r\nL 624.089947 150.512727 \r\nL 625.093454 170.28 \r\nL 628.103975 170.28 \r\nL 629.107482 150.512727 \r\nL 630.110989 170.28 \r\nL 631.114495 150.512727 \r\nL 632.118002 150.512727 \r\nL 633.121509 170.28 \r\nL 634.125016 150.512727 \r\nL 635.128523 170.28 \r\nL 636.13203 170.28 \r\nL 637.135537 150.512727 \r\nL 649.177619 150.512727 \r\nL 650.181126 130.745455 \r\nL 653.191647 130.745455 \r\nL 654.195154 150.512727 \r\nL 659.212688 150.512727 \r\nL 660.216195 130.745455 \r\nL 663.226716 130.745455 \r\nL 664.230222 150.512727 \r\nL 666.237236 150.512727 \r\nL 667.240743 130.745455 \r\nL 682.293346 130.745455 \r\nL 683.296853 150.512727 \r\nL 691.324908 150.512727 \r\nL 692.328415 130.745455 \r\nL 693.331922 130.745455 \r\nL 694.335429 150.512727 \r\nL 705.374004 150.512727 \r\nL 706.377511 170.28 \r\nL 712.398553 170.28 \r\nL 713.402059 190.047273 \r\nL 724.440635 190.047273 \r\nL 725.444142 229.581818 \r\nL 729.45817 229.581818 \r\nL 730.461676 209.814545 \r\nL 732.46869 209.814545 \r\nL 733.472197 229.581818 \r\nL 739.493238 229.581818 \r\nL 740.496745 249.349091 \r\nL 749.528307 249.349091 \r\nL 750.531814 229.581818 \r\nL 751.535321 249.349091 \r\nL 759.563376 249.349091 \r\nL 760.566883 229.581818 \r\nL 765.584417 229.581818 \r\nL 766.587924 249.349091 \r\nL 767.591431 229.581818 \r\nL 775.619486 229.581818 \r\nL 776.622993 249.349091 \r\nL 777.6265 249.349091 \r\nL 778.630007 229.581818 \r\nL 804.721185 229.581818 \r\nL 805.724692 249.349091 \r\nL 809.73872 249.349091 \r\nL 810.742227 229.581818 \r\nL 824.791323 229.581818 \r\nL 825.79483 249.349091 \r\nL 835.829899 249.349091 \r\nL 836.833406 190.047273 \r\nL 837.836912 249.349091 \r\nL 838.840419 190.047273 \r\nL 839.843926 249.349091 \r\nL 844.861461 249.349091 \r\nL 845.864967 190.047273 \r\nL 846.868474 249.349091 \r\nL 847.871981 190.047273 \r\nL 848.875488 249.349091 \r\nL 849.878995 288.883636 \r\nL 856.903543 288.883636 \r\nL 857.90705 308.650909 \r\nL 860.917571 308.650909 \r\nL 861.921078 328.418182 \r\nL 862.924584 308.650909 \r\nL 864.931598 308.650909 \r\nL 865.935105 328.418182 \r\nL 867.942119 328.418182 \r\nL 868.945626 348.185455 \r\nL 888.012256 348.185455 \r\nL 889.015763 328.418182 \r\nL 890.01927 328.418182 \r\nL 891.022777 348.185455 \r\nL 892.026284 328.418182 \r\nL 893.029791 367.952727 \r\nL 894.033298 348.185455 \r\nL 896.040311 348.185455 \r\nL 897.043818 328.418182 \r\nL 898.047325 348.185455 \r\nL 899.050832 348.185455 \r\nL 900.054339 367.952727 \r\nL 920.124476 367.952727 \r\nL 921.127983 387.72 \r\nL 922.13149 367.952727 \r\nL 923.134997 387.72 \r\nL 930.159545 387.72 \r\nL 931.163052 407.487273 \r\nL 935.17708 407.487273 \r\nL 936.180587 427.254545 \r\nL 955.247217 427.254545 \r\nL 956.250724 407.487273 \r\nL 999.40152 407.487273 \r\nL 1000.405027 427.254545 \r\nL 1060.61544 427.254545 \r\nL 1061.618946 466.789091 \r\nL 1076.67155 466.789091 \r\nL 1077.675056 486.556364 \r\nL 1120.825852 486.556364 \r\nL 1120.825852 486.556364 \r\n\" style=\"fill:none;stroke:#ff7f0e;stroke-linecap:square;stroke-width:1.5;\"/>\r\n   </g>\r\n   <g id=\"patch_3\">\r\n    <path d=\"M 55.553125 550.8 \r\nL 55.553125 7.2 \r\n\" style=\"fill:none;stroke:#000000;stroke-linecap:square;stroke-linejoin:miter;stroke-width:0.8;\"/>\r\n   </g>\r\n   <g id=\"patch_4\">\r\n    <path d=\"M 1171.553125 550.8 \r\nL 1171.553125 7.2 \r\n\" style=\"fill:none;stroke:#000000;stroke-linecap:square;stroke-linejoin:miter;stroke-width:0.8;\"/>\r\n   </g>\r\n   <g id=\"patch_5\">\r\n    <path d=\"M 55.553125 550.8 \r\nL 1171.553125 550.8 \r\n\" style=\"fill:none;stroke:#000000;stroke-linecap:square;stroke-linejoin:miter;stroke-width:0.8;\"/>\r\n   </g>\r\n   <g id=\"patch_6\">\r\n    <path d=\"M 55.553125 7.2 \r\nL 1171.553125 7.2 \r\n\" style=\"fill:none;stroke:#000000;stroke-linecap:square;stroke-linejoin:miter;stroke-width:0.8;\"/>\r\n   </g>\r\n  </g>\r\n </g>\r\n <defs>\r\n  <clipPath id=\"p4fa00cf4d8\">\r\n   <rect height=\"543.6\" width=\"1116\" x=\"55.553125\" y=\"7.2\"/>\r\n  </clipPath>\r\n </defs>\r\n</svg>\r\n",
      "image/png": "[encoded data removed]"
     },
     "metadata": {
      "needs_background": "light"
     }
    }
   ],
   "source": [
    "df.bid.plot(figsize=(20,10))\n",
    "df.ask.plot()"
   ]
  },
  {
   "cell_type": "code",
   "execution_count": 131,
   "metadata": {
    "tags": []
   },
   "outputs": [
    {
     "output_type": "error",
     "ename": "SyntaxError",
     "evalue": "invalid syntax (<ipython-input-131-22bdb52ef960>, line 1)",
     "traceback": [
      "\u001b[1;36m  File \u001b[1;32m\"<ipython-input-131-22bdb52ef960>\"\u001b[1;36m, line \u001b[1;32m1\u001b[0m\n\u001b[1;33m    contracts = [Stock(pair) for pair in (secIdType='ISIN', secId='IT0003856405')]\u001b[0m\n\u001b[1;37m                                                   ^\u001b[0m\n\u001b[1;31mSyntaxError\u001b[0m\u001b[1;31m:\u001b[0m invalid syntax\n"
     ]
    }
   ],
   "source": [
    "contracts = [Stock(pair) for pair in (secIdType='ISIN', secId='IT0003856405')]\n",
    "ib.qualifyContracts(*contracts)\n",
    "\n",
    "eurusd = contracts[0]"
   ]
  },
  {
   "cell_type": "code",
   "execution_count": 132,
   "metadata": {},
   "outputs": [],
   "source": [
    "LDO = Stock(secIdType='ISIN', secId='IT0003856405')\n",
    "ldo = Stock('LDO', 'SMART', 'EUR')\n",
    "cds = ib.reqContractDetails(ldo)"
   ]
  },
  {
   "cell_type": "code",
   "execution_count": 137,
   "metadata": {},
   "outputs": [
    {
     "output_type": "execute_result",
     "data": {
      "text/plain": [
       "[ContractDetails(contract=Contract(secType='STK', conId=35162453, symbol='LDO', exchange='SMART', primaryExchange='BVME', currency='EUR', localSymbol='LDO', tradingClass='LDO'), marketName='LDO', minTick=0.0001, orderTypes='ACTIVETIM,AD,ADJUST,ALERT,ALGO,ALGOLTH,ALLOC,AUC,AVGCOST,BASKET,BENCHPX,CASHQTY,COND,CONDORDER,DAY,DEACT,DEACTDIS,DEACTEOD,GAT,GTC,GTD,GTT,HID,IOC,LIT,LMT,LTH,MIT,MKT,MKT2BBO,MOC,MTL,NGCOMB,NODARK,NONALGO,OCA,OPG,PEGBENCH,SCALE,SCALERST,SIZECHK,SNAPMID,SNAPMKT,SNAPREL,STP,STPLMT,TRAIL,TRAILLIT,TRAILLMT,TRAILMIT,WHATIF', validExchanges='SMART,FWB,BVME,SWB,TGATE,GETTEX', priceMagnifier=1, underConId=0, longName='LEONARDO SPA', contractMonth='', industry='Industrial', category='Aerospace/Defense', subcategory='Aerospace/Defense', timeZoneId='MET', tradingHours='20210428:0900-20210428:1742;20210429:0900-20210429:1742;20210430:0900-20210430:1742;20210501:CLOSED;20210502:CLOSED;20210503:0900-20210503:1742', liquidHours='20210428:0900-20210428:1730;20210429:0900-20210429:1730;20210430:0900-20210430:1730;20210501:CLOSED;20210502:CLOSED;20210503:0900-20210503:1730', evRule='', evMultiplier=0, mdSizeMultiplier=1, aggGroup=18, underSymbol='', underSecType='', marketRuleIds='1873,1873,1873,1874,1873,1873', secIdList=[TagValue(tag='ISIN', value='IT0003856405')], realExpirationDate='', lastTradeTime='', stockType='COMMON', cusip='', ratings='', descAppend='', bondType='', couponType='', callable=False, putable=False, coupon=0, convertible=False, maturity='', issueDate='', nextOptionDate='', nextOptionType='', nextOptionPartial=False, notes='')]"
      ]
     },
     "metadata": {},
     "execution_count": 137
    }
   ],
   "source": [
    "cds"
   ]
  },
  {
   "cell_type": "code",
   "execution_count": 39,
   "metadata": {},
   "outputs": [
    {
     "output_type": "execute_result",
     "data": {
      "text/plain": [
       "  secType     conId symbol lastTradeDateOrContractMonth  strike right  \\\n",
       "0     STK  35162453    LDO                                  0.0         \n",
       "\n",
       "  multiplier exchange primaryExchange currency localSymbol tradingClass  \\\n",
       "0               SMART            BVME      EUR         LDO          LDO   \n",
       "\n",
       "   includeExpired secIdType secId comboLegsDescrip comboLegs  \\\n",
       "0           False                                         []   \n",
       "\n",
       "  deltaNeutralContract  \n",
       "0                 None  "
      ],
      "text/html": "<div>\n<style scoped>\n    .dataframe tbody tr th:only-of-type {\n        vertical-align: middle;\n    }\n\n    .dataframe tbody tr th {\n        vertical-align: top;\n    }\n\n    .dataframe thead th {\n        text-align: right;\n    }\n</style>\n<table border=\"1\" class=\"dataframe\">\n  <thead>\n    <tr style=\"text-align: right;\">\n      <th></th>\n      <th>secType</th>\n      <th>conId</th>\n      <th>symbol</th>\n      <th>lastTradeDateOrContractMonth</th>\n      <th>strike</th>\n      <th>right</th>\n      <th>multiplier</th>\n      <th>exchange</th>\n      <th>primaryExchange</th>\n      <th>currency</th>\n      <th>localSymbol</th>\n      <th>tradingClass</th>\n      <th>includeExpired</th>\n      <th>secIdType</th>\n      <th>secId</th>\n      <th>comboLegsDescrip</th>\n      <th>comboLegs</th>\n      <th>deltaNeutralContract</th>\n    </tr>\n  </thead>\n  <tbody>\n    <tr>\n      <th>0</th>\n      <td>STK</td>\n      <td>35162453</td>\n      <td>LDO</td>\n      <td></td>\n      <td>0.0</td>\n      <td></td>\n      <td></td>\n      <td>SMART</td>\n      <td>BVME</td>\n      <td>EUR</td>\n      <td>LDO</td>\n      <td>LDO</td>\n      <td>False</td>\n      <td></td>\n      <td></td>\n      <td></td>\n      <td>[]</td>\n      <td>None</td>\n    </tr>\n  </tbody>\n</table>\n</div>"
     },
     "metadata": {},
     "execution_count": 39
    }
   ],
   "source": [
    "contracts = [cd.contract for cd in cds]\n",
    "util.df(contracts)"
   ]
  },
  {
   "cell_type": "code",
   "execution_count": 45,
   "metadata": {},
   "outputs": [
    {
     "output_type": "execute_result",
     "data": {
      "text/plain": [
       "[Forex('EURUSD', conId=12087792, exchange='IDEALPRO', localSymbol='EUR.USD', tradingClass='EUR.USD')]"
      ]
     },
     "metadata": {},
     "execution_count": 45
    }
   ],
   "source": [
    "ib.qualifyContracts(eurusd)"
   ]
  },
  {
   "cell_type": "code",
   "execution_count": 21,
   "metadata": {},
   "outputs": [],
   "source": [
    "eurusd = Forex('EURUSD')\n",
    "ib.reqMktData(eurusd, '', False, False)\n",
    "ticker = ib.ticker(eurusd)"
   ]
  },
  {
   "cell_type": "code",
   "execution_count": 57,
   "metadata": {},
   "outputs": [],
   "source": [
    "def on_new_tick(tickers):\n",
    "    for t in tickers:\n",
    "        print(t.ask, t.bid)\n",
    "        clear_output(wait=True)"
   ]
  },
  {
   "cell_type": "code",
   "execution_count": 27,
   "metadata": {},
   "outputs": [],
   "source": [
    "ib.run()"
   ]
  },
  {
   "cell_type": "code",
   "execution_count": 58,
   "metadata": {},
   "outputs": [
    {
     "output_type": "stream",
     "name": "stdout",
     "text": [
      "1.20891 1.2089\n1.20891 1.2089\n1.20891 1.2089\n"
     ]
    }
   ],
   "source": [
    "ib.pendingTickersEvent += on_new_tick\n",
    "ib.sleep(30)\n",
    "ib.pendingTickersEvent -= on_new_tick"
   ]
  },
  {
   "cell_type": "code",
   "execution_count": 4,
   "metadata": {},
   "outputs": [
    {
     "output_type": "display_data",
     "data": {
      "text/plain": "        bidSize      bid      ask  askSize    high      low   close\nEURUSD  8500000  1.20869  1.20873  5000000  1.2117  1.20615  1.2098",
      "text/html": "<div>\n<style scoped>\n    .dataframe tbody tr th:only-of-type {\n        vertical-align: middle;\n    }\n\n    .dataframe tbody tr th {\n        vertical-align: top;\n    }\n\n    .dataframe thead th {\n        text-align: right;\n    }\n</style>\n<table border=\"1\" class=\"dataframe\">\n  <thead>\n    <tr style=\"text-align: right;\">\n      <th></th>\n      <th>bidSize</th>\n      <th>bid</th>\n      <th>ask</th>\n      <th>askSize</th>\n      <th>high</th>\n      <th>low</th>\n      <th>close</th>\n    </tr>\n  </thead>\n  <tbody>\n    <tr>\n      <th>EURUSD</th>\n      <td>8500000</td>\n      <td>1.20869</td>\n      <td>1.20873</td>\n      <td>5000000</td>\n      <td>1.2117</td>\n      <td>1.20615</td>\n      <td>1.2098</td>\n    </tr>\n  </tbody>\n</table>\n</div>"
     },
     "metadata": {}
    }
   ],
   "source": [
    "df = pd.DataFrame(\n",
    "    index=[eurusd.pair()],\n",
    "    columns=['bidSize', 'bid', 'ask', 'askSize', 'high', 'low', 'close'])\n",
    "\n",
    "def onPendingTickers(tickers):\n",
    "        df.loc[eurusd.pair()] = (\n",
    "            t.bidSize, t.bid, t.ask, t.askSize, t.high, t.low, t.close)\n",
    "        clear_output(wait=True)\n",
    "    display(df)        \n",
    "\n",
    "ib.pendingTickersEvent += onPendingTickers\n",
    "ib.sleep(30)\n",
    "ib.pendingTickersEvent -= onPendingTickers"
   ]
  },
  {
   "cell_type": "code",
   "execution_count": 24,
   "metadata": {},
   "outputs": [],
   "source": [
    "for contract in contracts:\n",
    "    ib.reqMktData(contract, '', False, False)"
   ]
  },
  {
   "cell_type": "code",
   "execution_count": 25,
   "metadata": {},
   "outputs": [
    {
     "output_type": "execute_result",
     "data": {
      "text/plain": [
       "nan"
      ]
     },
     "metadata": {},
     "execution_count": 25
    }
   ],
   "source": [
    "ticker = ib.ticker(eurusd)\n",
    "ib.sleep(2)\n",
    "\n",
    "ticker.marketPrice()"
   ]
  },
  {
   "cell_type": "code",
   "execution_count": 76,
   "metadata": {},
   "outputs": [],
   "source": [
    "ib = ibc.ib_connect(client_id=1)\n",
    "ib.open_connection()"
   ]
  },
  {
   "cell_type": "code",
   "execution_count": 87,
   "metadata": {},
   "outputs": [],
   "source": [
    "ib.close_connection()"
   ]
  },
  {
   "cell_type": "code",
   "execution_count": 77,
   "metadata": {},
   "outputs": [],
   "source": [
    "data = np.array([0,0,0,0])"
   ]
  },
  {
   "cell_type": "code",
   "execution_count": 78,
   "metadata": {},
   "outputs": [],
   "source": [
    "def process_ticks(tick):\n",
    "    global data\n",
    "    data = np.append(data, (tick.askSize, tick.ask, tick.bid, tick.bidSize))\n",
    "    \n",
    "\n",
    "def new_tick(tickers):\n",
    "    for ticker in tickers:\n",
    "        process_ticks(ticker)"
   ]
  },
  {
   "cell_type": "code",
   "execution_count": 173,
   "metadata": {},
   "outputs": [
    {
     "output_type": "execute_result",
     "data": {
      "text/plain": [
       "array([6.00000e+06, 1.20965e+00, 1.20963e+00, ..., 1.20935e+00,\n",
       "       1.20934e+00, 9.50000e+06])"
      ]
     },
     "metadata": {},
     "execution_count": 173
    }
   ],
   "source": [
    "data[4:]"
   ]
  },
  {
   "cell_type": "code",
   "execution_count": 169,
   "metadata": {},
   "outputs": [
    {
     "output_type": "execute_result",
     "data": {
      "text/plain": [
       "1.20934"
      ]
     },
     "metadata": {},
     "execution_count": 169
    }
   ],
   "source": [
    "data[-2]"
   ]
  },
  {
   "cell_type": "code",
   "execution_count": 170,
   "metadata": {},
   "outputs": [
    {
     "output_type": "execute_result",
     "data": {
      "text/plain": [
       "1.20935"
      ]
     },
     "metadata": {},
     "execution_count": 170
    }
   ],
   "source": [
    "data[-3]"
   ]
  },
  {
   "cell_type": "code",
   "execution_count": 79,
   "metadata": {
    "tags": []
   },
   "outputs": [
    {
     "output_type": "error",
     "ename": "KeyboardInterrupt",
     "evalue": "",
     "traceback": [
      "\u001b[1;31m---------------------------------------------------------------------------\u001b[0m",
      "\u001b[1;31mKeyboardInterrupt\u001b[0m                         Traceback (most recent call last)",
      "\u001b[1;32m<ipython-input-79-ea6e6a68871f>\u001b[0m in \u001b[0;36m<module>\u001b[1;34m\u001b[0m\n\u001b[1;32m----> 1\u001b[1;33m \u001b[0mib\u001b[0m\u001b[1;33m.\u001b[0m\u001b[0mstart_stream\u001b[0m\u001b[1;33m(\u001b[0m\u001b[1;34m'EURUSD'\u001b[0m\u001b[1;33m,\u001b[0m \u001b[0mnew_tick\u001b[0m\u001b[1;33m)\u001b[0m\u001b[1;33m\u001b[0m\u001b[1;33m\u001b[0m\u001b[0m\n\u001b[0m",
      "\u001b[1;32mc:\\Users\\gobel\\code\\research_env\\USI\\IB_trader\\connect.py\u001b[0m in \u001b[0;36mstart_stream\u001b[1;34m(self, ticker, loopback_function)\u001b[0m\n\u001b[0;32m     27\u001b[0m         \u001b[0mself\u001b[0m\u001b[1;33m.\u001b[0m\u001b[0mib\u001b[0m\u001b[1;33m.\u001b[0m\u001b[0mreqMktData\u001b[0m\u001b[1;33m(\u001b[0m\u001b[0mtmp\u001b[0m\u001b[1;33m)\u001b[0m\u001b[1;33m\u001b[0m\u001b[1;33m\u001b[0m\u001b[0m\n\u001b[0;32m     28\u001b[0m         \u001b[0mself\u001b[0m\u001b[1;33m.\u001b[0m\u001b[0mib\u001b[0m\u001b[1;33m.\u001b[0m\u001b[0mpendingTickersEvent\u001b[0m \u001b[1;33m+=\u001b[0m \u001b[0mloopback_function\u001b[0m\u001b[1;33m\u001b[0m\u001b[1;33m\u001b[0m\u001b[0m\n\u001b[1;32m---> 29\u001b[1;33m         \u001b[1;32mwhile\u001b[0m \u001b[0mself\u001b[0m\u001b[1;33m.\u001b[0m\u001b[0mib\u001b[0m\u001b[1;33m.\u001b[0m\u001b[0mwaitOnUpdate\u001b[0m\u001b[1;33m(\u001b[0m\u001b[1;33m)\u001b[0m\u001b[1;33m:\u001b[0m\u001b[1;33m\u001b[0m\u001b[1;33m\u001b[0m\u001b[0m\n\u001b[0m\u001b[0;32m     30\u001b[0m             \u001b[0mself\u001b[0m\u001b[1;33m.\u001b[0m\u001b[0mib\u001b[0m\u001b[1;33m.\u001b[0m\u001b[0msleep\u001b[0m\u001b[1;33m(\u001b[0m\u001b[1;36m1\u001b[0m\u001b[1;33m)\u001b[0m\u001b[1;33m\u001b[0m\u001b[1;33m\u001b[0m\u001b[0m\n\u001b[0;32m     31\u001b[0m \u001b[1;33m\u001b[0m\u001b[0m\n",
      "\u001b[1;32m~\\anaconda3\\envs\\ib\\lib\\site-packages\\ib_insync\\ib.py\u001b[0m in \u001b[0;36mwaitOnUpdate\u001b[1;34m(self, timeout)\u001b[0m\n\u001b[0;32m    334\u001b[0m                 \u001b[1;32mreturn\u001b[0m \u001b[1;32mFalse\u001b[0m\u001b[1;33m\u001b[0m\u001b[1;33m\u001b[0m\u001b[0m\n\u001b[0;32m    335\u001b[0m         \u001b[1;32melse\u001b[0m\u001b[1;33m:\u001b[0m\u001b[1;33m\u001b[0m\u001b[1;33m\u001b[0m\u001b[0m\n\u001b[1;32m--> 336\u001b[1;33m             \u001b[0mutil\u001b[0m\u001b[1;33m.\u001b[0m\u001b[0mrun\u001b[0m\u001b[1;33m(\u001b[0m\u001b[0mself\u001b[0m\u001b[1;33m.\u001b[0m\u001b[0mupdateEvent\u001b[0m\u001b[1;33m)\u001b[0m\u001b[1;33m\u001b[0m\u001b[1;33m\u001b[0m\u001b[0m\n\u001b[0m\u001b[0;32m    337\u001b[0m         \u001b[1;32mreturn\u001b[0m \u001b[1;32mTrue\u001b[0m\u001b[1;33m\u001b[0m\u001b[1;33m\u001b[0m\u001b[0m\n\u001b[0;32m    338\u001b[0m \u001b[1;33m\u001b[0m\u001b[0m\n",
      "\u001b[1;32m~\\anaconda3\\envs\\ib\\lib\\site-packages\\ib_insync\\util.py\u001b[0m in \u001b[0;36mrun\u001b[1;34m(timeout, *awaitables)\u001b[0m\n\u001b[0;32m    320\u001b[0m         \u001b[0mglobalErrorEvent\u001b[0m\u001b[1;33m.\u001b[0m\u001b[0mconnect\u001b[0m\u001b[1;33m(\u001b[0m\u001b[0monError\u001b[0m\u001b[1;33m)\u001b[0m\u001b[1;33m\u001b[0m\u001b[1;33m\u001b[0m\u001b[0m\n\u001b[0;32m    321\u001b[0m         \u001b[1;32mtry\u001b[0m\u001b[1;33m:\u001b[0m\u001b[1;33m\u001b[0m\u001b[1;33m\u001b[0m\u001b[0m\n\u001b[1;32m--> 322\u001b[1;33m             \u001b[0mresult\u001b[0m \u001b[1;33m=\u001b[0m \u001b[0mloop\u001b[0m\u001b[1;33m.\u001b[0m\u001b[0mrun_until_complete\u001b[0m\u001b[1;33m(\u001b[0m\u001b[0mtask\u001b[0m\u001b[1;33m)\u001b[0m\u001b[1;33m\u001b[0m\u001b[1;33m\u001b[0m\u001b[0m\n\u001b[0m\u001b[0;32m    323\u001b[0m         \u001b[1;32mexcept\u001b[0m \u001b[0masyncio\u001b[0m\u001b[1;33m.\u001b[0m\u001b[0mCancelledError\u001b[0m \u001b[1;32mas\u001b[0m \u001b[0me\u001b[0m\u001b[1;33m:\u001b[0m\u001b[1;33m\u001b[0m\u001b[1;33m\u001b[0m\u001b[0m\n\u001b[0;32m    324\u001b[0m             \u001b[1;32mraise\u001b[0m \u001b[0mglobalErrorEvent\u001b[0m\u001b[1;33m.\u001b[0m\u001b[0mvalue\u001b[0m\u001b[1;33m(\u001b[0m\u001b[1;33m)\u001b[0m \u001b[1;32mor\u001b[0m \u001b[0me\u001b[0m\u001b[1;33m\u001b[0m\u001b[1;33m\u001b[0m\u001b[0m\n",
      "\u001b[1;32m~\\anaconda3\\envs\\ib\\lib\\site-packages\\nest_asyncio.py\u001b[0m in \u001b[0;36mrun_until_complete\u001b[1;34m(self, future)\u001b[0m\n\u001b[0;32m     62\u001b[0m                 \u001b[0mf\u001b[0m\u001b[1;33m.\u001b[0m\u001b[0m_log_destroy_pending\u001b[0m \u001b[1;33m=\u001b[0m \u001b[1;32mFalse\u001b[0m\u001b[1;33m\u001b[0m\u001b[1;33m\u001b[0m\u001b[0m\n\u001b[0;32m     63\u001b[0m             \u001b[1;32mwhile\u001b[0m \u001b[1;32mnot\u001b[0m \u001b[0mf\u001b[0m\u001b[1;33m.\u001b[0m\u001b[0mdone\u001b[0m\u001b[1;33m(\u001b[0m\u001b[1;33m)\u001b[0m\u001b[1;33m:\u001b[0m\u001b[1;33m\u001b[0m\u001b[1;33m\u001b[0m\u001b[0m\n\u001b[1;32m---> 64\u001b[1;33m                 \u001b[0mself\u001b[0m\u001b[1;33m.\u001b[0m\u001b[0m_run_once\u001b[0m\u001b[1;33m(\u001b[0m\u001b[1;33m)\u001b[0m\u001b[1;33m\u001b[0m\u001b[1;33m\u001b[0m\u001b[0m\n\u001b[0m\u001b[0;32m     65\u001b[0m                 \u001b[1;32mif\u001b[0m \u001b[0mself\u001b[0m\u001b[1;33m.\u001b[0m\u001b[0m_stopping\u001b[0m\u001b[1;33m:\u001b[0m\u001b[1;33m\u001b[0m\u001b[1;33m\u001b[0m\u001b[0m\n\u001b[0;32m     66\u001b[0m                     \u001b[1;32mbreak\u001b[0m\u001b[1;33m\u001b[0m\u001b[1;33m\u001b[0m\u001b[0m\n",
      "\u001b[1;32m~\\anaconda3\\envs\\ib\\lib\\site-packages\\nest_asyncio.py\u001b[0m in \u001b[0;36m_run_once\u001b[1;34m(self)\u001b[0m\n\u001b[0;32m     85\u001b[0m             \u001b[1;32melse\u001b[0m \u001b[0mmin\u001b[0m\u001b[1;33m(\u001b[0m\u001b[0mmax\u001b[0m\u001b[1;33m(\u001b[0m\u001b[0mscheduled\u001b[0m\u001b[1;33m[\u001b[0m\u001b[1;36m0\u001b[0m\u001b[1;33m]\u001b[0m\u001b[1;33m.\u001b[0m\u001b[0m_when\u001b[0m \u001b[1;33m-\u001b[0m \u001b[0mnow\u001b[0m\u001b[1;33m,\u001b[0m \u001b[1;36m0\u001b[0m\u001b[1;33m)\u001b[0m\u001b[1;33m,\u001b[0m \u001b[1;36m86400\u001b[0m\u001b[1;33m)\u001b[0m \u001b[1;32mif\u001b[0m \u001b[0mscheduled\u001b[0m\u001b[1;33m\u001b[0m\u001b[1;33m\u001b[0m\u001b[0m\n\u001b[0;32m     86\u001b[0m             else None)\n\u001b[1;32m---> 87\u001b[1;33m         \u001b[0mevent_list\u001b[0m \u001b[1;33m=\u001b[0m \u001b[0mself\u001b[0m\u001b[1;33m.\u001b[0m\u001b[0m_selector\u001b[0m\u001b[1;33m.\u001b[0m\u001b[0mselect\u001b[0m\u001b[1;33m(\u001b[0m\u001b[0mtimeout\u001b[0m\u001b[1;33m)\u001b[0m\u001b[1;33m\u001b[0m\u001b[1;33m\u001b[0m\u001b[0m\n\u001b[0m\u001b[0;32m     88\u001b[0m         \u001b[0mself\u001b[0m\u001b[1;33m.\u001b[0m\u001b[0m_process_events\u001b[0m\u001b[1;33m(\u001b[0m\u001b[0mevent_list\u001b[0m\u001b[1;33m)\u001b[0m\u001b[1;33m\u001b[0m\u001b[1;33m\u001b[0m\u001b[0m\n\u001b[0;32m     89\u001b[0m \u001b[1;33m\u001b[0m\u001b[0m\n",
      "\u001b[1;32m~\\anaconda3\\envs\\ib\\lib\\selectors.py\u001b[0m in \u001b[0;36mselect\u001b[1;34m(self, timeout)\u001b[0m\n\u001b[0;32m    321\u001b[0m         \u001b[0mready\u001b[0m \u001b[1;33m=\u001b[0m \u001b[1;33m[\u001b[0m\u001b[1;33m]\u001b[0m\u001b[1;33m\u001b[0m\u001b[1;33m\u001b[0m\u001b[0m\n\u001b[0;32m    322\u001b[0m         \u001b[1;32mtry\u001b[0m\u001b[1;33m:\u001b[0m\u001b[1;33m\u001b[0m\u001b[1;33m\u001b[0m\u001b[0m\n\u001b[1;32m--> 323\u001b[1;33m             \u001b[0mr\u001b[0m\u001b[1;33m,\u001b[0m \u001b[0mw\u001b[0m\u001b[1;33m,\u001b[0m \u001b[0m_\u001b[0m \u001b[1;33m=\u001b[0m \u001b[0mself\u001b[0m\u001b[1;33m.\u001b[0m\u001b[0m_select\u001b[0m\u001b[1;33m(\u001b[0m\u001b[0mself\u001b[0m\u001b[1;33m.\u001b[0m\u001b[0m_readers\u001b[0m\u001b[1;33m,\u001b[0m \u001b[0mself\u001b[0m\u001b[1;33m.\u001b[0m\u001b[0m_writers\u001b[0m\u001b[1;33m,\u001b[0m \u001b[1;33m[\u001b[0m\u001b[1;33m]\u001b[0m\u001b[1;33m,\u001b[0m \u001b[0mtimeout\u001b[0m\u001b[1;33m)\u001b[0m\u001b[1;33m\u001b[0m\u001b[1;33m\u001b[0m\u001b[0m\n\u001b[0m\u001b[0;32m    324\u001b[0m         \u001b[1;32mexcept\u001b[0m \u001b[0mInterruptedError\u001b[0m\u001b[1;33m:\u001b[0m\u001b[1;33m\u001b[0m\u001b[1;33m\u001b[0m\u001b[0m\n\u001b[0;32m    325\u001b[0m             \u001b[1;32mreturn\u001b[0m \u001b[0mready\u001b[0m\u001b[1;33m\u001b[0m\u001b[1;33m\u001b[0m\u001b[0m\n",
      "\u001b[1;32m~\\anaconda3\\envs\\ib\\lib\\selectors.py\u001b[0m in \u001b[0;36m_select\u001b[1;34m(self, r, w, _, timeout)\u001b[0m\n\u001b[0;32m    312\u001b[0m     \u001b[1;32mif\u001b[0m \u001b[0msys\u001b[0m\u001b[1;33m.\u001b[0m\u001b[0mplatform\u001b[0m \u001b[1;33m==\u001b[0m \u001b[1;34m'win32'\u001b[0m\u001b[1;33m:\u001b[0m\u001b[1;33m\u001b[0m\u001b[1;33m\u001b[0m\u001b[0m\n\u001b[0;32m    313\u001b[0m         \u001b[1;32mdef\u001b[0m \u001b[0m_select\u001b[0m\u001b[1;33m(\u001b[0m\u001b[0mself\u001b[0m\u001b[1;33m,\u001b[0m \u001b[0mr\u001b[0m\u001b[1;33m,\u001b[0m \u001b[0mw\u001b[0m\u001b[1;33m,\u001b[0m \u001b[0m_\u001b[0m\u001b[1;33m,\u001b[0m \u001b[0mtimeout\u001b[0m\u001b[1;33m=\u001b[0m\u001b[1;32mNone\u001b[0m\u001b[1;33m)\u001b[0m\u001b[1;33m:\u001b[0m\u001b[1;33m\u001b[0m\u001b[1;33m\u001b[0m\u001b[0m\n\u001b[1;32m--> 314\u001b[1;33m             \u001b[0mr\u001b[0m\u001b[1;33m,\u001b[0m \u001b[0mw\u001b[0m\u001b[1;33m,\u001b[0m \u001b[0mx\u001b[0m \u001b[1;33m=\u001b[0m \u001b[0mselect\u001b[0m\u001b[1;33m.\u001b[0m\u001b[0mselect\u001b[0m\u001b[1;33m(\u001b[0m\u001b[0mr\u001b[0m\u001b[1;33m,\u001b[0m \u001b[0mw\u001b[0m\u001b[1;33m,\u001b[0m \u001b[0mw\u001b[0m\u001b[1;33m,\u001b[0m \u001b[0mtimeout\u001b[0m\u001b[1;33m)\u001b[0m\u001b[1;33m\u001b[0m\u001b[1;33m\u001b[0m\u001b[0m\n\u001b[0m\u001b[0;32m    315\u001b[0m             \u001b[1;32mreturn\u001b[0m \u001b[0mr\u001b[0m\u001b[1;33m,\u001b[0m \u001b[0mw\u001b[0m \u001b[1;33m+\u001b[0m \u001b[0mx\u001b[0m\u001b[1;33m,\u001b[0m \u001b[1;33m[\u001b[0m\u001b[1;33m]\u001b[0m\u001b[1;33m\u001b[0m\u001b[1;33m\u001b[0m\u001b[0m\n\u001b[0;32m    316\u001b[0m     \u001b[1;32melse\u001b[0m\u001b[1;33m:\u001b[0m\u001b[1;33m\u001b[0m\u001b[1;33m\u001b[0m\u001b[0m\n",
      "\u001b[1;31mKeyboardInterrupt\u001b[0m: "
     ]
    }
   ],
   "source": [
    "ib.start_stream('EURUSD', new_tick)"
   ]
  },
  {
   "cell_type": "code",
   "execution_count": 18,
   "metadata": {},
   "outputs": [
    {
     "output_type": "error",
     "ename": "AttributeError",
     "evalue": "'ib_connect' object has no attribute 'sleep'",
     "traceback": [
      "\u001b[1;31m---------------------------------------------------------------------------\u001b[0m",
      "\u001b[1;31mAttributeError\u001b[0m                            Traceback (most recent call last)",
      "\u001b[1;32m<ipython-input-18-dd2ae4ec0189>\u001b[0m in \u001b[0;36m<module>\u001b[1;34m\u001b[0m\n\u001b[0;32m      1\u001b[0m \u001b[1;32mtry\u001b[0m\u001b[1;33m:\u001b[0m\u001b[1;33m\u001b[0m\u001b[1;33m\u001b[0m\u001b[0m\n\u001b[1;32m----> 2\u001b[1;33m     \u001b[0mib\u001b[0m\u001b[1;33m.\u001b[0m\u001b[0msleep\u001b[0m\u001b[1;33m(\u001b[0m\u001b[1;36m30\u001b[0m\u001b[1;33m)\u001b[0m\u001b[1;33m\u001b[0m\u001b[1;33m\u001b[0m\u001b[0m\n\u001b[0m\u001b[0;32m      3\u001b[0m \u001b[1;32mexcept\u001b[0m \u001b[1;33m(\u001b[0m\u001b[0mKeyboardInterrupt\u001b[0m\u001b[1;33m,\u001b[0m \u001b[0mSystemExit\u001b[0m\u001b[1;33m)\u001b[0m\u001b[1;33m:\u001b[0m\u001b[1;33m\u001b[0m\u001b[1;33m\u001b[0m\u001b[0m\n\u001b[0;32m      4\u001b[0m     \u001b[0mib\u001b[0m\u001b[1;33m.\u001b[0m\u001b[0mclose_connection\u001b[0m\u001b[1;33m(\u001b[0m\u001b[1;33m)\u001b[0m\u001b[1;33m\u001b[0m\u001b[1;33m\u001b[0m\u001b[0m\n",
      "\u001b[1;31mAttributeError\u001b[0m: 'ib_connect' object has no attribute 'sleep'"
     ]
    }
   ],
   "source": [
    "try:\n",
    "    ib.sleep(30)\n",
    "except (KeyboardInterrupt, SystemExit):\n",
    "    ib.close_connection()"
   ]
  },
  {
   "cell_type": "code",
   "execution_count": null,
   "metadata": {},
   "outputs": [],
   "source": [
    "try:\n",
    "    ib.start_stream('EURUSD')"
   ]
  },
  {
   "cell_type": "code",
   "execution_count": 4,
   "metadata": {},
   "outputs": [
    {
     "output_type": "stream",
     "name": "stdout",
     "text": [
      "Ticker(contract=Forex('EURUSD', exchange='IDEALPRO'), time=datetime.datetime(2021, 4, 26, 17, 11, 24, 421750, tzinfo=datetime.timezone.utc), bid=1.20867, bidSize=2000000, ask=1.20868, askSize=2000000, high=1.2117, low=1.20615, close=1.2098, halted=0.0, ticks=[TickData(time=datetime.datetime(2021, 4, 26, 17, 11, 24, 421750, tzinfo=datetime.timezone.utc), tickType=1, price=1.20867, size=2000000), TickData(time=datetime.datetime(2021, 4, 26, 17, 11, 24, 421750, tzinfo=datetime.timezone.utc), tickType=2, price=1.20868, size=2000000), TickData(time=datetime.datetime(2021, 4, 26, 17, 11, 24, 421750, tzinfo=datetime.timezone.utc), tickType=6, price=1.2117, size=0), TickData(time=datetime.datetime(2021, 4, 26, 17, 11, 24, 421750, tzinfo=datetime.timezone.utc), tickType=7, price=1.20615, size=0), TickData(time=datetime.datetime(2021, 4, 26, 17, 11, 24, 421750, tzinfo=datetime.timezone.utc), tickType=9, price=1.2098, size=0), TickData(time=datetime.datetime(2021, 4, 26, 17, 11, 24, 421750, tzinfo=datetime.timezone.utc), tickType=49, price=0.0, size=0)])\n",
      "Ticker(contract=Forex('EURUSD', exchange='IDEALPRO'), time=datetime.datetime(2021, 4, 26, 17, 11, 24, 421750, tzinfo=datetime.timezone.utc), bid=1.20867, bidSize=2000000, ask=1.20868, askSize=2000000, high=1.2117, low=1.20615, close=1.2098, halted=0.0, ticks=[TickData(time=datetime.datetime(2021, 4, 26, 17, 11, 24, 421750, tzinfo=datetime.timezone.utc), tickType=1, price=1.20867, size=2000000), TickData(time=datetime.datetime(2021, 4, 26, 17, 11, 24, 421750, tzinfo=datetime.timezone.utc), tickType=2, price=1.20868, size=2000000), TickData(time=datetime.datetime(2021, 4, 26, 17, 11, 24, 421750, tzinfo=datetime.timezone.utc), tickType=6, price=1.2117, size=0), TickData(time=datetime.datetime(2021, 4, 26, 17, 11, 24, 421750, tzinfo=datetime.timezone.utc), tickType=7, price=1.20615, size=0), TickData(time=datetime.datetime(2021, 4, 26, 17, 11, 24, 421750, tzinfo=datetime.timezone.utc), tickType=9, price=1.2098, size=0), TickData(time=datetime.datetime(2021, 4, 26, 17, 11, 24, 421750, tzinfo=datetime.timezone.utc), tickType=49, price=0.0, size=0)])\n",
      "Ticker(contract=Forex('EURUSD', exchange='IDEALPRO'), time=datetime.datetime(2021, 4, 26, 17, 11, 25, 932839, tzinfo=datetime.timezone.utc), bid=1.20867, bidSize=2000000, ask=1.20868, askSize=2000000, high=1.2117, low=1.20615, close=1.2098, halted=0.0, ticks=[TickData(time=datetime.datetime(2021, 4, 26, 17, 11, 25, 932839, tzinfo=datetime.timezone.utc), tickType=49, price=0.0, size=0)])\n",
      "Ticker(contract=Forex('EURUSD', exchange='IDEALPRO'), time=datetime.datetime(2021, 4, 26, 17, 11, 25, 932839, tzinfo=datetime.timezone.utc), bid=1.20867, bidSize=2000000, ask=1.20868, askSize=2000000, high=1.2117, low=1.20615, close=1.2098, halted=0.0, ticks=[TickData(time=datetime.datetime(2021, 4, 26, 17, 11, 25, 932839, tzinfo=datetime.timezone.utc), tickType=49, price=0.0, size=0)])\n"
     ]
    }
   ],
   "source": [
    "\n",
    "try:\n",
    "    asyncio.run(ib.start_stream('EURUSD'))\n",
    "except (KeyboardInterrupt, SystemExit):\n",
    "    ib.close_connection()"
   ]
  },
  {
   "cell_type": "code",
   "execution_count": null,
   "metadata": {},
   "outputs": [],
   "source": []
  }
 ]
}